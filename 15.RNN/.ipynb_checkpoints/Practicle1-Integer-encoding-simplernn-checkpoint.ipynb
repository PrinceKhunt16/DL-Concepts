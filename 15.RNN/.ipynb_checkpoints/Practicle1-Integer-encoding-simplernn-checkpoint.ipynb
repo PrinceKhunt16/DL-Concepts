{
 "cells": [
  {
   "cell_type": "markdown",
   "id": "d0dca6e9-21f2-4463-88e9-770d20d04c37",
   "metadata": {},
   "source": [
    "https://colab.research.google.com/drive/1uY7NEHi59w4FkB8TViwLjUDKxgCA8W5G?usp=sharing"
   ]
  }
 ],
 "metadata": {
  "kernelspec": {
   "display_name": "Python 3 (ipykernel)",
   "language": "python",
   "name": "python3"
  },
  "language_info": {
   "codemirror_mode": {
    "name": "ipython",
    "version": 3
   },
   "file_extension": ".py",
   "mimetype": "text/x-python",
   "name": "python",
   "nbconvert_exporter": "python",
   "pygments_lexer": "ipython3",
   "version": "3.11.6"
  }
 },
 "nbformat": 4,
 "nbformat_minor": 5
}
