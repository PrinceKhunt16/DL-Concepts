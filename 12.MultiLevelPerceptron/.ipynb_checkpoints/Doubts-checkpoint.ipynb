{
 "cells": [
  {
   "cell_type": "markdown",
   "id": "43f9fd21-7e58-4b64-bdfd-ca54065f5c5f",
   "metadata": {},
   "source": [
    "### 1. Difference between Forward and Backward Propagation."
   ]
  },
  {
   "cell_type": "markdown",
   "id": "0103ef7d-9869-48f1-b751-96b976751259",
   "metadata": {},
   "source": [
    "#### Forward Propagation\n",
    "- In forward propagation, the input data is passed through the neural network layer by layer from the input layer to the output layer.\n",
    "- At each layer, the activations are computed based on the input data, weights, and biases using predefined activation functions (e.g., sigmoid, ReLU).\n",
    "- The output of the final layer is the predicted output of the neural network.\n",
    "- Forward propagation is used to make predictions given input data without adjusting any parameters.\n",
    "\n",
    "#### Backward Propagation\n",
    "- In backward propagation (also known as backpropagation), the error between the predicted output and the actual target is calculated using a loss function (e.g., mean squared error, cross-entropy).\n",
    "- The goal of backward propagation is to adjust the weights and biases of the neural network to minimize this error.\n",
    "- Backward propagation involves computing the gradients of the loss function with respect to the parameters (weights and biases) of the neural network using the chain rule of calculus.\n",
    "- These gradients are then used to update the parameters in the opposite direction of the gradient to minimize the loss function.\n",
    "- Backward propagation is essentially the process of propagating the error backward through the network to adjust the parameters to improve the model's performance."
   ]
  }
 ],
 "metadata": {
  "kernelspec": {
   "display_name": "Python 3 (ipykernel)",
   "language": "python",
   "name": "python3"
  },
  "language_info": {
   "codemirror_mode": {
    "name": "ipython",
    "version": 3
   },
   "file_extension": ".py",
   "mimetype": "text/x-python",
   "name": "python",
   "nbconvert_exporter": "python",
   "pygments_lexer": "ipython3",
   "version": "3.11.6"
  }
 },
 "nbformat": 4,
 "nbformat_minor": 5
}
