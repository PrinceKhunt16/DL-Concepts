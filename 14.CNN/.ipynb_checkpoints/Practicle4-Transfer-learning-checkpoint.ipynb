{
 "cells": [
  {
   "cell_type": "markdown",
   "id": "f9d7abd1-e16f-4d3c-ba69-ad0270cfa3d9",
   "metadata": {},
   "source": [
    "https://colab.research.google.com/drive/1VxoR4vMmZJAOCsDUnfezPuFQqHdKabcL?usp=sharing"
   ]
  },
  {
   "cell_type": "markdown",
   "id": "d224d071-bf3a-4cb6-8311-87c7aeaf1b99",
   "metadata": {},
   "source": [
    "https://colab.research.google.com/drive/1q_INiVDAzhSy1L_A87fBTf2wC3l3MiWy?usp=sharing"
   ]
  },
  {
   "cell_type": "markdown",
   "id": "31c18b0d-1543-4fe9-b062-96360ea168d9",
   "metadata": {},
   "source": [
    "https://colab.research.google.com/drive/1mEWfubs2tR0CkqyxqP49cK30n7V5_NCm?usp=sharing"
   ]
  }
 ],
 "metadata": {
  "kernelspec": {
   "display_name": "Python 3 (ipykernel)",
   "language": "python",
   "name": "python3"
  },
  "language_info": {
   "codemirror_mode": {
    "name": "ipython",
    "version": 3
   },
   "file_extension": ".py",
   "mimetype": "text/x-python",
   "name": "python",
   "nbconvert_exporter": "python",
   "pygments_lexer": "ipython3",
   "version": "3.11.6"
  }
 },
 "nbformat": 4,
 "nbformat_minor": 5
}
