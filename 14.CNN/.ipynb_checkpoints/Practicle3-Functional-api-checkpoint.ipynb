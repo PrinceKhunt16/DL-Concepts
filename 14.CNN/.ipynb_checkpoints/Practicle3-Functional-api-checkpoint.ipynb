{
 "cells": [
  {
   "cell_type": "markdown",
   "id": "0b6cd394-4319-4a57-a632-d20b38550e66",
   "metadata": {},
   "source": [
    "https://colab.research.google.com/drive/1uCHf6hoLR1a-46RznVjqnhVZNechF0fz?usp=sharing"
   ]
  },
  {
   "cell_type": "markdown",
   "id": "a1442f66-bdc6-4302-98c1-ff02cc06627f",
   "metadata": {},
   "source": [
    "https://colab.research.google.com/drive/1B2azaSX9g55olY473c7WAMf3E5-717Ge?usp=sharing"
   ]
  },
  {
   "cell_type": "markdown",
   "id": "509ba1d1-ac96-4670-8d55-03f03a1d122a",
   "metadata": {},
   "source": [
    "https://colab.research.google.com/drive/1pKfnYBal9HhuwRADU0FrWaVJ11_llk8-?usp=sharing"
   ]
  }
 ],
 "metadata": {
  "kernelspec": {
   "display_name": "Python 3 (ipykernel)",
   "language": "python",
   "name": "python3"
  },
  "language_info": {
   "codemirror_mode": {
    "name": "ipython",
    "version": 3
   },
   "file_extension": ".py",
   "mimetype": "text/x-python",
   "name": "python",
   "nbconvert_exporter": "python",
   "pygments_lexer": "ipython3",
   "version": "3.11.6"
  }
 },
 "nbformat": 4,
 "nbformat_minor": 5
}
